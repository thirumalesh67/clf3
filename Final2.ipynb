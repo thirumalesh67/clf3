{
  "cells": [
    {
      "cell_type": "markdown",
      "metadata": {
        "id": "view-in-github",
        "colab_type": "text"
      },
      "source": [
        "<a href=\"https://colab.research.google.com/github/Monishgalla/Classifying-different-land-uses-in-satellite-images-using-CNN/blob/main/Final2.ipynb\" target=\"_parent\"><img src=\"https://colab.research.google.com/assets/colab-badge.svg\" alt=\"Open In Colab\"/></a>"
      ]
    },
    {
      "cell_type": "code",
      "execution_count": null,
      "metadata": {
        "colab": {
          "background_save": true,
          "base_uri": "https://localhost:8080/"
        },
        "id": "ZI3urPVx1OLq",
        "outputId": "47993667-8751-4cc8-de9b-1fce5e97da99"
      },
      "outputs": [
        {
          "name": "stdout",
          "output_type": "stream",
          "text": [
            "Drive already mounted at /content/drive; to attempt to forcibly remount, call drive.mount(\"/content/drive\", force_remount=True).\n",
            "Epoch 1/5\n",
            "52/52 [==============================] - 855s 17s/step - loss: 2.0744 - accuracy: 0.5000 - val_loss: 0.8222 - val_accuracy: 0.7620\n",
            "Epoch 2/5\n",
            "52/52 [==============================] - 809s 16s/step - loss: 0.6953 - accuracy: 0.7834 - val_loss: 0.6131 - val_accuracy: 0.7957\n",
            "Epoch 3/5\n",
            "52/52 [==============================] - 852s 16s/step - loss: 0.5985 - accuracy: 0.8051 - val_loss: 0.5811 - val_accuracy: 0.8125\n",
            "Epoch 4/5\n",
            "52/52 [==============================] - 806s 16s/step - loss: 0.4157 - accuracy: 0.8658 - val_loss: 0.4587 - val_accuracy: 0.8702\n",
            "Epoch 5/5\n",
            "52/52 [==============================] - 803s 16s/step - loss: 0.3353 - accuracy: 0.8893 - val_loss: 0.4124 - val_accuracy: 0.8726\n"
          ]
        },
        {
          "name": "stderr",
          "output_type": "stream",
          "text": [
            "/usr/local/lib/python3.10/dist-packages/keras/src/engine/training.py:3079: UserWarning: You are saving your model as an HDF5 file via `model.save()`. This file format is considered legacy. We recommend using instead the native Keras format, e.g. `model.save('my_model.keras')`.\n",
            "  saving_api.save_model(\n"
          ]
        }
      ],
      "source": [
        "import os\n",
        "import numpy as np\n",
        "import tensorflow as tf\n",
        "from tensorflow.keras.models import Sequential\n",
        "from tensorflow.keras.layers import Conv2D, MaxPooling2D, Flatten, Dense\n",
        "from tensorflow.keras.applications import VGG16\n",
        "from tensorflow.keras.preprocessing.image import ImageDataGenerator\n",
        "from sklearn.model_selection import train_test_split\n",
        "from tensorflow.keras.utils import to_categorical\n",
        "from tensorflow.keras.callbacks import EarlyStopping\n",
        "from google.colab import drive\n",
        "\n",
        "# Mount Google Drive\n",
        "drive.mount('/content/drive')\n",
        "\n",
        "# Set the path to your dataset in .tif format\n",
        "data_dir = '/content/drive/MyDrive/dataset/UCMerced_LandUse/tif images'\n",
        "\n",
        "# Set the number of classes and batch size\n",
        "num_classes = 21\n",
        "batch_size = 32\n",
        "\n",
        "# Load the data from the dataset directory\n",
        "data = []\n",
        "labels = []\n",
        "\n",
        "class_names = sorted(os.listdir(data_dir))\n",
        "class_to_label = {class_name: label for label, class_name in enumerate(class_names)}\n",
        "\n",
        "for class_name in class_names:\n",
        "    class_dir = os.path.join(data_dir, class_name)\n",
        "    if os.path.isdir(class_dir):\n",
        "        for image_name in os.listdir(class_dir):\n",
        "            if image_name.endswith('.tif'):\n",
        "                image_path = os.path.join(class_dir, image_name)\n",
        "                image = tf.keras.preprocessing.image.load_img(image_path, target_size=(224, 224))\n",
        "                image = tf.keras.preprocessing.image.img_to_array(image)\n",
        "                data.append(image)\n",
        "                labels.append(class_to_label[class_name])\n",
        "\n",
        "# Convert the data and labels to numpy arrays\n",
        "data = np.array(data)\n",
        "labels = np.array(labels)\n",
        "\n",
        "# Convert labels to one-hot encoded format\n",
        "labels = to_categorical(labels, num_classes=num_classes)\n",
        "\n",
        "# Perform train-test split\n",
        "train_data, val_data, train_labels, val_labels = train_test_split(data, labels, test_size=0.2, random_state=42)\n",
        "\n",
        "# Data preprocessing and augmentation\n",
        "train_datagen = ImageDataGenerator(\n",
        "    rescale=1./255,\n",
        "    rotation_range=20,\n",
        "    width_shift_range=0.2,\n",
        "    height_shift_range=0.2,\n",
        "    shear_range=0.2,\n",
        "    zoom_range=0.2,\n",
        "    horizontal_flip=True\n",
        ")\n",
        "\n",
        "val_datagen = ImageDataGenerator(rescale=1./255)\n",
        "\n",
        "train_generator = train_datagen.flow(train_data, train_labels, batch_size=batch_size)\n",
        "val_generator = val_datagen.flow(val_data, val_labels, batch_size=batch_size)\n",
        "\n",
        "# Load the VGG16 model without the top classification layer\n",
        "vgg_model = VGG16(weights='imagenet', include_top=False, input_shape=(224, 224, 3))\n",
        "\n",
        "# Freeze the pre-trained layers\n",
        "for layer in vgg_model.layers:\n",
        "    layer.trainable = False\n",
        "\n",
        "# Create a new model\n",
        "model = Sequential()\n",
        "model.add(vgg_model)\n",
        "model.add(Flatten())\n",
        "model.add(Dense(256, activation='relu'))\n",
        "model.add(Dense(num_classes, activation='softmax'))\n",
        "\n",
        "# Compiling the model\n",
        "model.compile(optimizer='adam', loss='categorical_crossentropy', metrics=['accuracy'])\n",
        "\n",
        "# Define early stopping criteria\n",
        "early_stopping = EarlyStopping(monitor='val_loss', patience=3, restore_best_weights=True)\n",
        "\n",
        "# Training the model\n",
        "epochs = 5\n",
        "\n",
        "model.fit(\n",
        "    train_generator,\n",
        "    steps_per_epoch=len(train_data) // batch_size,\n",
        "    epochs=epochs,\n",
        "    validation_data=val_generator,\n",
        "    validation_steps=len(val_data) // batch_size,\n",
        "    callbacks=[early_stopping]\n",
        ")\n",
        "\n",
        "# Save the trained model\n",
        "model.save('/content/drive/MyDrive/trained_model.h5')"
      ]
    }
  ],
  "metadata": {
    "colab": {
      "provenance": [],
      "authorship_tag": "ABX9TyMnq2nnexfFqTD26TvC5OQ+",
      "include_colab_link": true
    },
    "kernelspec": {
      "display_name": "Python 3",
      "name": "python3"
    },
    "language_info": {
      "name": "python"
    }
  },
  "nbformat": 4,
  "nbformat_minor": 0
}